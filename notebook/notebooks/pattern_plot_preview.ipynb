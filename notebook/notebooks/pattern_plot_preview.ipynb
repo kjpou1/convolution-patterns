{
 "cells": [
  {
   "cell_type": "code",
   "execution_count": 231,
   "id": "81f8977d",
   "metadata": {},
   "outputs": [],
   "source": [
    "import pandas as pd\n",
    "import matplotlib.pyplot as plt\n",
    "from pathlib import Path\n",
    "\n",
    "from io import BytesIO\n",
    "from PIL import Image\n",
    "import numpy as np\n"
   ]
  },
  {
   "cell_type": "code",
   "execution_count": 232,
   "id": "98b354cb",
   "metadata": {},
   "outputs": [],
   "source": [
    "# === 🎨 Color Constants ===\n",
    "COLOR_CLOSE = \"#2196F3\"        # Blue\n",
    "COLOR_AHMA = \"#880E4F\"         # Deep Pink\n",
    "COLOR_PROJECTION = \"#FF9800\"   # Orange\n",
    "COLOR_CONVOLUTION = \"#4CAF50\"  # Green\n",
    "\n",
    "# === 🧮 Configuration Constants ===\n",
    "DEFAULT_IMAGE_SIZE = (128, 128)\n",
    "DEFAULT_NUM_DAYS = 21   # Max bars per window (starting window)\n",
    "ENDING_NUM_DAYS = 5    # Min bars allowed (final tier)\n",
    "WINDOW_STRIDE = 2       # Decrease step per tier\n",
    "\n"
   ]
  },
  {
   "cell_type": "code",
   "execution_count": 233,
   "id": "2c276623",
   "metadata": {},
   "outputs": [],
   "source": [
    "def plot_pattern_image(df, num_days=DEFAULT_NUM_DAYS, size=DEFAULT_IMAGE_SIZE, include_close=True, save_path=None):\n",
    "    df_window = df.tail(num_days)\n",
    "\n",
    "    fig, ax = plt.subplots(figsize=(size[0] / 64, size[1] / 64), dpi=64)\n",
    "\n",
    "    if include_close and \"Close\" in df_window.columns:\n",
    "        ax.plot(df_window[\"Close\"], color=COLOR_CLOSE, linewidth=1.5)\n",
    "\n",
    "    if \"AHMA\" in df_window.columns:\n",
    "        ax.plot(df_window[\"AHMA\"], color=COLOR_AHMA, linewidth=1.5)\n",
    "\n",
    "    if \"Leavitt_Projection\" in df_window.columns:\n",
    "        ax.plot(df_window[\"Leavitt_Projection\"], color=COLOR_PROJECTION, linewidth=1.5)\n",
    "\n",
    "    if \"Leavitt_Convolution\" in df_window.columns:\n",
    "        ax.plot(df_window[\"Leavitt_Convolution\"], color=COLOR_CONVOLUTION, linewidth=1.5)\n",
    "\n",
    "    ax.axis(\"off\")\n",
    "    plt.tight_layout(pad=0)\n",
    "\n",
    "    if save_path:\n",
    "        plt.savefig(save_path, bbox_inches=\"tight\", pad_inches=0)\n",
    "        plt.close(fig)\n",
    "    else:\n",
    "        plt.show()\n",
    "\n",
    "def load_and_plot_pattern(csv_path, num_days=DEFAULT_NUM_DAYS, image_size=DEFAULT_IMAGE_SIZE, include_close=True):\n",
    "    df = pd.read_csv(csv_path, encoding=\"utf-8\")\n",
    "\n",
    "    required_cols = [\"AHMA\", \"Leavitt_Projection\", \"Leavitt_Convolution\"]\n",
    "    if include_close:\n",
    "        required_cols.append(\"Close\")\n",
    "    \n",
    "    missing = [col for col in required_cols if col not in df.columns]\n",
    "    if missing:\n",
    "        raise ValueError(f\"Missing required column(s): {missing}\")\n",
    "    \n",
    "    plot_pattern_image(df, num_days=num_days, size=image_size, include_close=include_close)\n"
   ]
  },
  {
   "cell_type": "code",
   "execution_count": 234,
   "id": "162c6602",
   "metadata": {},
   "outputs": [],
   "source": [
    "signal_path = \"/Users/kenneth/Public/projects/python/trading_strategies/convolution_strategy_ml/artifacts/preclose/AUD_JPY/AUD_JPY_processed_signals.csv\""
   ]
  },
  {
   "cell_type": "code",
   "execution_count": 235,
   "id": "645da72f",
   "metadata": {},
   "outputs": [
    {
     "data": {
      "image/png": "[encoded data removed]",
      "text/plain": [
       "<Figure size 128x128 with 1 Axes>"
      ]
     },
     "metadata": {},
     "output_type": "display_data"
    },
    {
     "data": {
      "image/png": "[encoded data removed]",
      "text/plain": [
       "<Figure size 128x128 with 1 Axes>"
      ]
     },
     "metadata": {},
     "output_type": "display_data"
    }
   ],
   "source": [
    "# 🔵 With Close\n",
    "load_and_plot_pattern(signal_path, include_close=True)\n",
    "\n",
    "# 🔴 Without Close\n",
    "load_and_plot_pattern(signal_path, include_close=False)\n"
   ]
  },
  {
   "cell_type": "code",
   "execution_count": 236,
   "id": "ee502158",
   "metadata": {},
   "outputs": [],
   "source": [
    "def plot_pattern_image_array(df, num_days=28, size=(128, 128), include_close=True):\n",
    "    df_window = df.tail(num_days)\n",
    "\n",
    "    fig, ax = plt.subplots(figsize=(size[0] / 64, size[1] / 64), dpi=64)\n",
    "\n",
    "    if include_close and \"Close\" in df_window.columns:\n",
    "        ax.plot(df_window[\"Close\"], color=COLOR_CLOSE, linewidth=1.5)\n",
    "    if \"AHMA\" in df_window.columns:\n",
    "        ax.plot(df_window[\"AHMA\"], color=COLOR_AHMA, linewidth=1.5)\n",
    "    if \"Leavitt_Projection\" in df_window.columns:\n",
    "        ax.plot(df_window[\"Leavitt_Projection\"], color=COLOR_PROJECTION, linewidth=1.5)\n",
    "    if \"Leavitt_Convolution\" in df_window.columns:\n",
    "        ax.plot(df_window[\"Leavitt_Convolution\"], color=COLOR_CONVOLUTION, linewidth=1.5)\n",
    "\n",
    "    ax.axis(\"off\")\n",
    "    plt.tight_layout(pad=0)\n",
    "\n",
    "    buf = BytesIO()\n",
    "    fig.savefig(buf, format=\"png\", bbox_inches=\"tight\", pad_inches=0)\n",
    "    plt.close(fig)\n",
    "\n",
    "    buf.seek(0)\n",
    "    img = Image.open(buf).convert(\"RGB\")\n",
    "    img = img.resize(size)  # Ensure it's exactly size (128x128)\n",
    "    img_array = np.array(img) / 255.0  # Normalize to 0-1\n",
    "    return img_array"
   ]
  },
  {
   "cell_type": "code",
   "execution_count": 237,
   "id": "bb7d3453",
   "metadata": {},
   "outputs": [],
   "source": [
    "df = pd.read_csv(signal_path, encoding=\"utf-8\")\n",
    "\n",
    "# Get image array from last 28 bars\n",
    "image_array = plot_pattern_image_array(df, num_days=28)\n",
    "\n",
    "# Expand dims for CNN model: (1, 128, 128, 3)\n",
    "image_batch = np.expand_dims(image_array, axis=0)\n",
    "\n",
    "# Model inference: model.predict(image_batch)"
   ]
  },
  {
   "cell_type": "code",
   "execution_count": 238,
   "id": "edee661e",
   "metadata": {},
   "outputs": [],
   "source": [
    "def generate_sliding_windows(df, image_size=(128, 128), include_close=True):\n",
    "    \"\"\"\n",
    "    Yields (window_size, image_array) tuples from DEFAULT_NUM_DAYS down to ENDING_NUM_DAYS (inclusive).\n",
    "    \"\"\"\n",
    "    results = []\n",
    "    for window_size in range(DEFAULT_NUM_DAYS, ENDING_NUM_DAYS - 1, -WINDOW_STRIDE):\n",
    "        img = plot_pattern_image_array(\n",
    "            df,\n",
    "            num_days=window_size,\n",
    "            size=image_size,\n",
    "            include_close=include_close\n",
    "        )\n",
    "        results.append((window_size, img))\n",
    "    return results"
   ]
  },
  {
   "cell_type": "code",
   "execution_count": 239,
   "id": "cc3b2c80",
   "metadata": {},
   "outputs": [
    {
     "name": "stdout",
     "output_type": "stream",
     "text": [
      "Window: 21 bars → Image shape: (128, 128, 3)\n",
      "Window: 19 bars → Image shape: (128, 128, 3)\n",
      "Window: 17 bars → Image shape: (128, 128, 3)\n",
      "Window: 15 bars → Image shape: (128, 128, 3)\n",
      "Window: 13 bars → Image shape: (128, 128, 3)\n",
      "Window: 11 bars → Image shape: (128, 128, 3)\n",
      "Window: 9 bars → Image shape: (128, 128, 3)\n",
      "Window: 7 bars → Image shape: (128, 128, 3)\n",
      "Window: 5 bars → Image shape: (128, 128, 3)\n"
     ]
    }
   ],
   "source": [
    "windows = generate_sliding_windows(df, include_close=False)\n",
    "\n",
    "for bars, image in windows:\n",
    "    print(f\"Window: {bars} bars → Image shape: {image.shape}\")\n",
    "    # prediction = model.predict(np.expand_dims(image, axis=0))\n"
   ]
  },
  {
   "cell_type": "code",
   "execution_count": 240,
   "id": "4a40205f",
   "metadata": {},
   "outputs": [],
   "source": [
    "def inspect_window(window_tuple, model=None, decode_fn=None, threshold=0.8):\n",
    "    \"\"\"\n",
    "    Prints stride + window size, shows the image, and optionally runs model inference.\n",
    "    \"\"\"\n",
    "    window_size, img = window_tuple\n",
    "    stride = DEFAULT_NUM_DAYS - window_size\n",
    "\n",
    "    print(f\"🪟 Window Size: {window_size} bars\")\n",
    "    print(f\"↪️  Stride from left: {stride} bars\")\n",
    "\n",
    "    plt.figure(figsize=(2.5, 2.5))\n",
    "    plt.imshow(img)\n",
    "    plt.title(f\"{window_size} bars (stride={stride})\")\n",
    "    plt.axis(\"off\")\n",
    "    plt.tight_layout()\n",
    "    plt.show()\n",
    "\n",
    "    if model:\n",
    "        input_tensor = np.expand_dims(img, axis=0)\n",
    "        preds = model.predict(input_tensor)\n",
    "\n",
    "        label = decode_fn(preds) if decode_fn else preds.argmax()\n",
    "        confidence = preds.max()\n",
    "\n",
    "        print(f\"🧠 Model Prediction: {label} (confidence = {confidence:.2f})\")\n",
    "        if confidence > threshold:\n",
    "            print(\"✅ Exceeds confidence threshold → inference accepted\")\n",
    "        else:\n",
    "            print(\"❌ Below threshold → continue sliding\")"
   ]
  },
  {
   "cell_type": "code",
   "execution_count": 241,
   "id": "11451284",
   "metadata": {},
   "outputs": [
    {
     "name": "stdout",
     "output_type": "stream",
     "text": [
      "🪟 Window Size: 5 bars\n",
      "↪️  Stride from left: 16 bars\n"
     ]
    },
    {
     "data": {
      "image/png": "[encoded data removed]",
      "text/plain": [
       "<Figure size 250x250 with 1 Axes>"
      ]
     },
     "metadata": {},
     "output_type": "display_data"
    }
   ],
   "source": [
    "windows = generate_sliding_windows(df, include_close=False)\n",
    "\n",
    "# Inspect one (e.g., the 3rd tier)\n",
    "inspect_window(windows[8])  # window_size = 17 bars"
   ]
  },
  {
   "cell_type": "code",
   "execution_count": null,
   "id": "ebf1c0e2",
   "metadata": {},
   "outputs": [],
   "source": [
    "for idx in windows:\n",
    "    inspect_window(idx)"
   ]
  }
 ],
 "metadata": {
  "kernelspec": {
   "display_name": ".venv",
   "language": "python",
   "name": "python3"
  },
  "language_info": {
   "codemirror_mode": {
    "name": "ipython",
    "version": 3
   },
   "file_extension": ".py",
   "mimetype": "text/x-python",
   "name": "python",
   "nbconvert_exporter": "python",
   "pygments_lexer": "ipython3",
   "version": "3.12.4"
  }
 },
 "nbformat": 4,
 "nbformat_minor": 5
}
