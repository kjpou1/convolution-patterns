{
 "cells": [
  {
   "cell_type": "code",
   "execution_count": 1,
   "id": "337eb00b",
   "metadata": {},
   "outputs": [
    {
     "name": "stdout",
     "output_type": "stream",
     "text": [
      "[Config] Resolved (PROJECT_ROOT): configs/transforms_used.yaml → /Users/kenneth/Public/projects/python/ai/convolution-patterns/configs/transforms_used.yaml\n",
      "[Config] Resolved (fallback to BASE_DIR): configs/backbones/EfficientNetB0.yaml → /Users/kenneth/Public/projects/python/ai/convolution-patterns/artifacts/configs/backbones/EfficientNetB0.yaml\n"
     ]
    }
   ],
   "source": [
    "import numpy as np\n",
    "import pandas as pd\n",
    "import matplotlib.pyplot as plt\n",
    "import seaborn as sns\n",
    "from collections import Counter\n",
    "\n",
    "import tensorflow as tf\n",
    "from sklearn.utils import compute_class_weight\n",
    "\n",
    "from convolution_patterns.config import Config\n",
    "from convolution_patterns.logger_manager import LoggerManager\n",
    "from convolution_patterns.services.image_dataset_service import ImageDatasetService\n",
    "from convolution_patterns.services.transform_service import TransformService"
   ]
  },
  {
   "cell_type": "code",
   "execution_count": 2,
   "id": "e633fc82",
   "metadata": {},
   "outputs": [],
   "source": [
    "logging = LoggerManager.get_logger(\"class_distribution_analysis\")"
   ]
  },
  {
   "cell_type": "code",
   "execution_count": 3,
   "id": "1b739176",
   "metadata": {},
   "outputs": [],
   "source": [
    "config_path = \"../../configs/train_config.yaml\""
   ]
  },
  {
   "cell_type": "code",
   "execution_count": 4,
   "id": "99c6b724",
   "metadata": {},
   "outputs": [
    {
     "name": "stdout",
     "output_type": "stream",
     "text": [
      "[Config] Loaded YAML config: ../../configs/train_config.yaml\n",
      "[Config] Overriding 'debug': False → True\n",
      "[Config] Overriding 'staging_dir': None → ./artifacts/staging\n",
      "[Config] Overriding 'preserve_raw': True → True\n",
      "[Config] Overriding 'label_mode': pattern_only → pattern_only\n",
      "[Config] Overriding 'split_ratios': [70, 15, 15] → [70, 15, 15]\n",
      "[Config] Overriding 'random_seed': 42 → 1337\n",
      "[Config] Overriding 'image_size': (224, 224) → [224, 224]\n",
      "[Config] Overriding 'batch_size': 32 → 32\n",
      "[Config] Overriding 'epochs': 10 → 400\n",
      "[Config] Overriding 'cache': False → True\n",
      "[Config] Overriding 'include_classes': None → None\n",
      "[Config] Overriding 'exclude_classes': [] → ['No_Pattern']\n",
      "PROJECT ROOT: /Users/kenneth/Public/projects/python/ai/convolution-patterns\n",
      "BASE DIR: /Users/kenneth/Public/projects/python/ai/convolution-patterns/artifacts\n",
      "RAW DATA: /Users/kenneth/Public/projects/python/ai/convolution-patterns/artifacts/data/raw\n",
      "PROCESSED DATA: /Users/kenneth/Public/projects/python/ai/convolution-patterns/artifacts/data/processed\n",
      "REPORTS DATA: /Users/kenneth/Public/projects/python/ai/convolution-patterns/artifacts/reports\n"
     ]
    }
   ],
   "source": [
    "cfg = Config()\n",
    "cfg.load_from_yaml(config_path)\n",
    "print(\"PROJECT ROOT:\", cfg.PROJECT_ROOT)\n",
    "print(\"BASE DIR:\", cfg.BASE_DIR)\n",
    "print(\"RAW DATA:\", cfg.RAW_DATA_DIR)\n",
    "print(\"PROCESSED DATA:\", cfg.PROCESSED_DATA_DIR)\n",
    "print(\"REPORTS DATA:\", cfg.REPORTS_DIR)"
   ]
  },
  {
   "cell_type": "code",
   "execution_count": 5,
   "id": "968282f2",
   "metadata": {},
   "outputs": [
    {
     "name": "stdout",
     "output_type": "stream",
     "text": [
      "[ 2025-07-22 07:17:12 ] INFO [../../src/convolution_patterns/services/image_dataset_service.py:81] - ✅ Using class names: ['Downtrend', 'Trend_Change_Bear', 'Trend_Change_Bull', 'Uptrend']\n",
      "Found 1074 files belonging to 4 classes.\n",
      "[ 2025-07-22 07:17:12 ] INFO [../../src/convolution_patterns/services/image_dataset_service.py:36] - \n",
      "\n",
      "📊 Dataset: train\n",
      "  ➤ Image shape: (32, 224, 224, 3), dtype: <dtype: 'float32'>\n",
      "  ➤ Label shape: (32, 4), dtype: <dtype: 'float32'>\n",
      "  ➤ Total images: 1074\n",
      "  ➤ Number of batches: 34\n",
      "  ➤ Number of classes (inferred): 4\n",
      "  ➤ Class Names: ['Downtrend', 'Trend_Change_Bear', 'Trend_Change_Bull', 'Uptrend']\n",
      "[ 2025-07-22 07:17:12 ] INFO [../../src/convolution_patterns/services/image_dataset_service.py:81] - ✅ Using class names: ['Downtrend', 'Trend_Change_Bear', 'Trend_Change_Bull', 'Uptrend']\n",
      "Found 110 files belonging to 4 classes.\n",
      "[ 2025-07-22 07:17:12 ] INFO [../../src/convolution_patterns/services/image_dataset_service.py:36] - \n",
      "\n",
      "📊 Dataset: val\n",
      "  ➤ Image shape: (32, 224, 224, 3), dtype: <dtype: 'float32'>\n",
      "  ➤ Label shape: (32, 4), dtype: <dtype: 'float32'>\n",
      "  ➤ Total images: 110\n",
      "  ➤ Number of batches: 4\n",
      "  ➤ Number of classes (inferred): 4\n",
      "  ➤ Class Names: ['Downtrend', 'Trend_Change_Bear', 'Trend_Change_Bull', 'Uptrend']\n"
     ]
    },
    {
     "name": "stderr",
     "output_type": "stream",
     "text": [
      "2025-07-22 07:17:12.254397: I metal_plugin/src/device/metal_device.cc:1154] Metal device set to: Apple M2 Max\n",
      "2025-07-22 07:17:12.254415: I metal_plugin/src/device/metal_device.cc:296] systemMemory: 64.00 GB\n",
      "2025-07-22 07:17:12.254419: I metal_plugin/src/device/metal_device.cc:313] maxCacheSize: 24.00 GB\n",
      "2025-07-22 07:17:12.254433: I tensorflow/core/common_runtime/pluggable_device/pluggable_device_factory.cc:305] Could not identify NUMA node of platform GPU ID 0, defaulting to 0. Your kernel may not have been built with NUMA support.\n",
      "2025-07-22 07:17:12.254443: I tensorflow/core/common_runtime/pluggable_device/pluggable_device_factory.cc:271] Created TensorFlow device (/job:localhost/replica:0/task:0/device:GPU:0 with 0 MB memory) -> physical PluggableDevice (device: 0, name: METAL, pci bus id: <undefined>)\n",
      "2025-07-22 07:17:12.412052: W tensorflow/core/framework/local_rendezvous.cc:404] Local rendezvous is aborting with status: OUT_OF_RANGE: End of sequence\n",
      "2025-07-22 07:17:12.436413: W tensorflow/core/framework/local_rendezvous.cc:404] Local rendezvous is aborting with status: OUT_OF_RANGE: End of sequence\n"
     ]
    }
   ],
   "source": [
    "print_stats = True\n",
    "# Load transform config\n",
    "path = cfg.transform_config_path\n",
    "if path is None:\n",
    "    raise ValueError(\"Transform config path must not be None.\")\n",
    "\n",
    "transform_service = TransformService.from_yaml(path)\n",
    "train_pipeline = transform_service.get_pipeline(mode=\"train\")\n",
    "val_pipeline = transform_service.get_pipeline(mode=\"val\")\n",
    "\n",
    "#cfg.exclude_classes = ['No_Pattern']\n",
    "# Load datasets\n",
    "dataset_service = ImageDatasetService()\n",
    "train_ds, train_class_names = dataset_service.get_dataset(\n",
    "    \"train\", print_stats=print_stats, prefetch=False\n",
    ")\n",
    "val_ds, val_class_names = dataset_service.get_dataset(\n",
    "    \"val\", print_stats=print_stats, prefetch=False\n",
    ")\n",
    "\n",
    "# Apply transformations\n",
    "train_ds = train_ds.map(\n",
    "    lambda x, y: (train_pipeline(x), y), num_parallel_calls=tf.data.AUTOTUNE\n",
    ")\n",
    "val_ds = val_ds.map(\n",
    "    lambda x, y: (val_pipeline(x), y), num_parallel_calls=tf.data.AUTOTUNE\n",
    ")"
   ]
  },
  {
   "cell_type": "code",
   "execution_count": 6,
   "id": "d2f3a589",
   "metadata": {},
   "outputs": [],
   "source": [
    "# Extract images and labels from tf.data.Dataset\n",
    "def dataset_to_numpy(dataset):\n",
    "    images_list = []\n",
    "    labels_list = []\n",
    "    for batch_images, batch_labels in dataset:\n",
    "        images_list.append(batch_images.numpy())\n",
    "        labels_list.append(batch_labels.numpy())\n",
    "    images = np.concatenate(images_list, axis=0)\n",
    "    labels = np.concatenate(labels_list, axis=0)\n",
    "    return images, labels\n",
    "\n",
    "\n",
    "# train_images, train_labels_onehot = dataset_to_numpy(train_ds)\n",
    "# train_labels = np.argmax(train_labels_onehot, axis=1)\n",
    "\n",
    "# # Calculate mean pixel intensity per image\n",
    "# mean_intensity = train_images.mean(axis=(1, 2, 3))\n",
    "\n",
    "# # Create DataFrame for plotting\n",
    "# df = pd.DataFrame(\n",
    "#     {\n",
    "#         \"mean_intensity\": mean_intensity,\n",
    "#         \"class\": [train_class_names[i] for i in train_labels],\n",
    "#     }\n",
    "# )\n",
    "\n",
    "# plt.figure(figsize=(14, 7))\n",
    "# sns.boxplot(x=\"class\", y=\"mean_intensity\", data=df)\n",
    "# plt.xticks(rotation=45)\n",
    "# plt.title(\"Mean Pixel Intensity Distribution per Class\")\n",
    "# plt.show()"
   ]
  },
  {
   "cell_type": "code",
   "execution_count": 7,
   "id": "3307d425",
   "metadata": {},
   "outputs": [],
   "source": [
    "def _extract_integer_labels(dataset):\n",
    "    labels = []\n",
    "    for _, one_hot_labels in dataset.unbatch():\n",
    "        label = tf.argmax(one_hot_labels).numpy()\n",
    "        labels.append(label)\n",
    "    return np.array(labels)\n"
   ]
  },
  {
   "cell_type": "code",
   "execution_count": 8,
   "id": "37fb70ed",
   "metadata": {},
   "outputs": [
    {
     "name": "stderr",
     "output_type": "stream",
     "text": [
      "2025-07-22 07:17:12.498849: I tensorflow/core/grappler/optimizers/custom_graph_optimizer_registry.cc:117] Plugin optimizer for device_type GPU is enabled.\n",
      "2025-07-22 07:17:12.652865: W tensorflow/core/framework/local_rendezvous.cc:404] Local rendezvous is aborting with status: OUT_OF_RANGE: End of sequence\n"
     ]
    },
    {
     "data": {
      "image/png": "[encoded data removed]",
      "text/plain": [
       "<Figure size 1200x600 with 1 Axes>"
      ]
     },
     "metadata": {},
     "output_type": "display_data"
    }
   ],
   "source": [
    "def get_class_distribution(labels_onehot, class_names):\n",
    "    # Convert one-hot labels to class indices\n",
    "    labels = np.argmax(labels_onehot, axis=1)\n",
    "    counts = Counter(labels)\n",
    "    distribution = {class_names[i]: counts[i] for i in range(len(class_names))}\n",
    "    return distribution\n",
    "\n",
    "\n",
    "def plot_class_distribution(distribution, title=\"Class Distribution\"):\n",
    "    classes = list(distribution.keys())\n",
    "    counts = list(distribution.values())\n",
    "\n",
    "    plt.figure(figsize=(12, 6))\n",
    "    bars = plt.bar(classes, counts, color=\"skyblue\")\n",
    "    plt.xticks(rotation=45, ha=\"right\")\n",
    "    plt.ylabel(\"Number of samples\")\n",
    "    plt.title(title)\n",
    "\n",
    "    # Add counts on top of bars\n",
    "    for bar, count in zip(bars, counts):\n",
    "        plt.text(\n",
    "            bar.get_x() + bar.get_width() / 2,\n",
    "            bar.get_height(),\n",
    "            str(count),\n",
    "            ha=\"center\",\n",
    "            va=\"bottom\",\n",
    "        )\n",
    "    plt.tight_layout()\n",
    "    plt.show()\n",
    "\n",
    "\n",
    "# Example usage with your train dataset\n",
    "train_images, train_labels_onehot = dataset_to_numpy(\n",
    "    train_ds\n",
    ")  # Use the function from earlier\n",
    "train_distribution = get_class_distribution(train_labels_onehot, train_class_names)\n",
    "plot_class_distribution(train_distribution, title=\"Training Set Class Distribution\")\n",
    "\n",
    "# If you want to track after augmentation, do the same for augmented dataset labels\n",
    "# augmented_images, augmented_labels_onehot = dataset_to_numpy(augmented_ds)\n",
    "# augmented_distribution = get_class_distribution(augmented_labels_onehot, train_class_names)\n",
    "# plot_class_distribution(augmented_distribution, title=\"Augmented Set Class Distribution\")"
   ]
  },
  {
   "cell_type": "code",
   "execution_count": 9,
   "id": "f402947f",
   "metadata": {},
   "outputs": [
    {
     "name": "stdout",
     "output_type": "stream",
     "text": [
      "Image shape: (32, 224, 224, 3)\n",
      "Label shape: (32, 4)\n",
      "Label sample: tf.Tensor([1. 0. 0. 0.], shape=(4,), dtype=float32)\n"
     ]
    },
    {
     "name": "stderr",
     "output_type": "stream",
     "text": [
      "2025-07-22 07:17:12.991183: W tensorflow/core/framework/local_rendezvous.cc:404] Local rendezvous is aborting with status: OUT_OF_RANGE: End of sequence\n"
     ]
    }
   ],
   "source": [
    "for images, labels in train_ds.take(1):\n",
    "    print(\"Image shape:\", images.shape)\n",
    "    print(\"Label shape:\", labels.shape)\n",
    "    print(\"Label sample:\", labels[0])"
   ]
  },
  {
   "cell_type": "code",
   "execution_count": 10,
   "id": "79534504",
   "metadata": {},
   "outputs": [
    {
     "name": "stderr",
     "output_type": "stream",
     "text": [
      "2025-07-22 07:17:13.189143: W tensorflow/core/framework/local_rendezvous.cc:404] Local rendezvous is aborting with status: OUT_OF_RANGE: End of sequence\n"
     ]
    },
    {
     "name": "stdout",
     "output_type": "stream",
     "text": [
      "Index to weight:\n",
      "  0: 0.5824\n",
      "  1: 3.2744\n",
      "  2: 3.8357\n",
      "  3: 0.5824\n",
      "\n",
      "Label to weight:\n",
      "  Downtrend: 0.5824\n",
      "  Trend_Change_Bear: 3.2744\n",
      "  Trend_Change_Bull: 3.8357\n",
      "  Uptrend: 0.5824\n"
     ]
    }
   ],
   "source": [
    "train_labels = _extract_integer_labels(train_ds)\n",
    "unique_labels = np.unique(train_labels)\n",
    "# Step 2: Compute class weights\n",
    "class_weights = compute_class_weight(\n",
    "    class_weight=\"balanced\", classes=unique_labels, y=train_labels\n",
    ")\n",
    "# Build both dicts: index to weight, and label to weight\n",
    "index_to_weight = {i: w for i, w in enumerate(class_weights)}\n",
    "label_to_weight = {train_class_names[i]: w for i, w in enumerate(class_weights)}\n",
    "\n",
    "print(\"Index to weight:\")\n",
    "for k, v in index_to_weight.items():\n",
    "    print(f\"  {k}: {v:.4f}\")\n",
    "\n",
    "print(\"\\nLabel to weight:\")\n",
    "for label, weight in label_to_weight.items():\n",
    "    print(f\"  {label}: {weight:.4f}\")"
   ]
  },
  {
   "cell_type": "markdown",
   "id": "c952a1f0",
   "metadata": {},
   "source": []
  }
 ],
 "metadata": {
  "kernelspec": {
   "display_name": ".venv",
   "language": "python",
   "name": "python3"
  },
  "language_info": {
   "codemirror_mode": {
    "name": "ipython",
    "version": 3
   },
   "file_extension": ".py",
   "mimetype": "text/x-python",
   "name": "python",
   "nbconvert_exporter": "python",
   "pygments_lexer": "ipython3",
   "version": "3.12.4"
  }
 },
 "nbformat": 4,
 "nbformat_minor": 5
}
